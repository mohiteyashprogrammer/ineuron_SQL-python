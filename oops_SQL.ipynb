{
 "cells": [
  {
   "cell_type": "code",
   "execution_count": null,
   "id": "5fdc3e28",
   "metadata": {},
   "outputs": [],
   "source": []
  },
  {
   "cell_type": "code",
   "execution_count": 63,
   "id": "67a482b4",
   "metadata": {},
   "outputs": [],
   "source": [
    "class My_SQL:\n",
    "    \n",
    "    def __init__(self,host,user,password):\n",
    "        self.host = host\n",
    "        self.user = user\n",
    "        self.password = password\n",
    "        \n",
    "    def create_connection(self):\n",
    "        self.mydb = mysql.connector.connect(host = self.host, user = self.user, password = self.password)\n",
    "        return self.mydb\n",
    "    \n",
    "    def create_cursor(self):\n",
    "        self.mycursor = self.mydb.cursor()\n",
    "        return self.mycursor\n",
    "    \n",
    "    def show_database(self):\n",
    "        try:\n",
    "            self.mycursor.execute(f\"show databases\")\n",
    "            for i in self.mycursor:\n",
    "                print(i)     \n",
    "        except Exception as e:\n",
    "            print(e)\n",
    "            \n",
    "    def create_database(self,db_name):\n",
    "        try:\n",
    "            self.db_name = db_name\n",
    "            return self.mycursor.execute(f\"create database if not exists {self.db_name}\")\n",
    "        except Exception as e:\n",
    "            print(e)\n",
    "            \n",
    "    def create_table(self,table_name):\n",
    "        try:\n",
    "            self.table_name = table_name\n",
    "            self.mycursor.execute(f\"use {self.db_name}\")\n",
    "            self.mycursor.execute(f\"create table if not exists {self.table_name}\")\n",
    "        except Exception as e:\n",
    "            print(e)\n",
    "            \n",
    "    def insert_data(self,data):\n",
    "        try:\n",
    "            self.data = data\n",
    "            self.mycursor.execute(f\"use {self.db_name}\")\n",
    "            self.mycursor.execute(self.data)\n",
    "            self.mydb.commit()\n",
    "        except Exception as e:\n",
    "            print(e)\n",
    "            \n",
    "    def querys(self,details):\n",
    "        try:\n",
    "            self.details = details\n",
    "            self.mycursor.execute(self.details)\n",
    "            print(self.mycursor.fetchall())\n",
    "        except Exception as e:\n",
    "            print(e)\n",
    "            \n",
    "    def update(self,new_update):\n",
    "        try:\n",
    "            self.new_update = new_update\n",
    "            self.mycursor.execute(self.new_update)\n",
    "            self.mydb.commit()\n",
    "        except Exception as e:\n",
    "            print(e)\n",
    "            \n",
    "    def delete(self,dell):\n",
    "        try:\n",
    "            self.dell = dell\n",
    "            self.mycursor.execute(self.dell)\n",
    "            self.mydb.commit()\n",
    "        except Exception as e:\n",
    "            print(e)\n",
    "            \n",
    "    def __str__(self):\n",
    "        return \"This is MongoDB class\"    "
   ]
  },
  {
   "cell_type": "code",
   "execution_count": 64,
   "id": "99875a0a",
   "metadata": {},
   "outputs": [],
   "source": [
    "m = My_SQL(\"localhost\", \"root\", \"password\")"
   ]
  },
  {
   "cell_type": "code",
   "execution_count": 65,
   "id": "4d92c9f7",
   "metadata": {},
   "outputs": [
    {
     "data": {
      "text/plain": [
       "<mysql.connector.connection_cext.CMySQLConnection at 0x256ef2ca0e0>"
      ]
     },
     "execution_count": 65,
     "metadata": {},
     "output_type": "execute_result"
    }
   ],
   "source": [
    "m.create_connection()"
   ]
  },
  {
   "cell_type": "code",
   "execution_count": 66,
   "id": "fda1060b",
   "metadata": {},
   "outputs": [
    {
     "data": {
      "text/plain": [
       "<mysql.connector.cursor_cext.CMySQLCursor at 0x256f05946a0>"
      ]
     },
     "execution_count": 66,
     "metadata": {},
     "output_type": "execute_result"
    }
   ],
   "source": [
    "m.create_cursor()"
   ]
  },
  {
   "cell_type": "code",
   "execution_count": 67,
   "id": "b00f41e0",
   "metadata": {},
   "outputs": [
    {
     "name": "stdout",
     "output_type": "stream",
     "text": [
      "('glassbase',)\n",
      "('ineuron',)\n",
      "('information_schema',)\n",
      "('mydatabase',)\n",
      "('mysql',)\n",
      "('performance_schema',)\n",
      "('schooldb',)\n",
      "('sys',)\n",
      "('test',)\n"
     ]
    }
   ],
   "source": [
    "m.show_database()"
   ]
  },
  {
   "cell_type": "code",
   "execution_count": 68,
   "id": "4ab1238c",
   "metadata": {},
   "outputs": [],
   "source": [
    "m.create_database(\"test\")"
   ]
  },
  {
   "cell_type": "code",
   "execution_count": 69,
   "id": "e288d2d6",
   "metadata": {},
   "outputs": [],
   "source": [
    "m.create_table(\"cls(studentid int, firstname varchar(50), lastname varchar(50),registrationdate DATE,class varchar(20),cource_name varchar(50))\")"
   ]
  },
  {
   "cell_type": "code",
   "execution_count": 70,
   "id": "46342d1c",
   "metadata": {},
   "outputs": [],
   "source": [
    "m.insert_data(\"\"\"insert into test.cls values(1418, 'yash', 'mohite', '2022-12-2','SQL','FSDS'), \n",
    "(1419, 'yash', 'mohite', '2022-12-2','SQL','FSDS'),\n",
    "(1420, 'isha', 'suriyavanshi', '2022-12-2','SQL','FSDS'),\n",
    "(1421, 'siddhesh', 'patade', '2022-12-2','SQL','FSDS'),\n",
    "(1422, 'ankita', 'gurav', '2022-12-2','SQL','FSDS'),\n",
    "(1423, 'isha', 'ghoil', '2022-12-2','SQL','FSDS'),\n",
    "(1424, 'rutuja', 'rane', '2022-12-2','SQL','FSDS')\"\"\")"
   ]
  },
  {
   "cell_type": "code",
   "execution_count": 71,
   "id": "b70eda34",
   "metadata": {},
   "outputs": [
    {
     "name": "stdout",
     "output_type": "stream",
     "text": [
      "[(1418, 'yash', 'mohite', datetime.date(2022, 12, 2), 'SQL', 'FSDS'), (1419, 'yash', 'mohite', datetime.date(2022, 12, 2), 'SQL', 'FSDS'), (1420, 'isha', 'suriyavanshi', datetime.date(2022, 12, 2), 'SQL', 'FSDS'), (1421, 'siddhesh', 'patade', datetime.date(2022, 12, 2), 'SQL', 'FSDS'), (1422, 'ankita', 'gurav', datetime.date(2022, 12, 2), 'SQL', 'FSDS'), (1423, 'isha', 'ghoil', datetime.date(2022, 12, 2), 'SQL', 'FSDS'), (1424, 'rutuja', 'rane', datetime.date(2022, 12, 2), 'SQL', 'FSDS'), (1418, 'yash', 'mohite', datetime.date(2022, 12, 2), 'SQL', 'FSDS'), (1419, 'yash', 'mohite', datetime.date(2022, 12, 2), 'SQL', 'FSDS'), (1420, 'isha', 'suriyavanshi', datetime.date(2022, 12, 2), 'SQL', 'FSDS'), (1421, 'siddhesh', 'patade', datetime.date(2022, 12, 2), 'SQL', 'FSDS'), (1422, 'ankita', 'gurav', datetime.date(2022, 12, 2), 'SQL', 'FSDS'), (1423, 'isha', 'ghoil', datetime.date(2022, 12, 2), 'SQL', 'FSDS'), (1424, 'rutuja', 'rane', datetime.date(2022, 12, 2), 'SQL', 'FSDS')]\n"
     ]
    }
   ],
   "source": [
    "m.querys(\"select * from test.cls\")"
   ]
  },
  {
   "cell_type": "code",
   "execution_count": 72,
   "id": "333792dc",
   "metadata": {},
   "outputs": [
    {
     "name": "stdout",
     "output_type": "stream",
     "text": [
      "[(1418, 'yash', 'FSDS'), (1419, 'yash', 'FSDS'), (1420, 'isha', 'FSDS'), (1421, 'siddhesh', 'FSDS'), (1422, 'ankita', 'FSDS'), (1423, 'isha', 'FSDS'), (1424, 'rutuja', 'FSDS'), (1418, 'yash', 'FSDS'), (1419, 'yash', 'FSDS'), (1420, 'isha', 'FSDS'), (1421, 'siddhesh', 'FSDS'), (1422, 'ankita', 'FSDS'), (1423, 'isha', 'FSDS'), (1424, 'rutuja', 'FSDS')]\n"
     ]
    }
   ],
   "source": [
    "m.querys(\"select studentid,firstname,cource_name from test.cls\")"
   ]
  },
  {
   "cell_type": "code",
   "execution_count": 73,
   "id": "bed9b5b2",
   "metadata": {},
   "outputs": [
    {
     "name": "stdout",
     "output_type": "stream",
     "text": [
      "[(1423, 'isha', 'ghoil', datetime.date(2022, 12, 2), 'SQL', 'FSDS'), (1423, 'isha', 'ghoil', datetime.date(2022, 12, 2), 'SQL', 'FSDS')]\n"
     ]
    }
   ],
   "source": [
    "m.querys(\"select * from test.cls where studentid = 1423\")"
   ]
  },
  {
   "cell_type": "code",
   "execution_count": 74,
   "id": "4617807c",
   "metadata": {},
   "outputs": [
    {
     "name": "stdout",
     "output_type": "stream",
     "text": [
      "[(1423, 'isha', 'ghoil', datetime.date(2022, 12, 2), 'SQL', 'FSDS'), (1424, 'rutuja', 'rane', datetime.date(2022, 12, 2), 'SQL', 'FSDS'), (1423, 'isha', 'ghoil', datetime.date(2022, 12, 2), 'SQL', 'FSDS'), (1424, 'rutuja', 'rane', datetime.date(2022, 12, 2), 'SQL', 'FSDS')]\n"
     ]
    }
   ],
   "source": [
    "m.querys(\"select * from test.cls where  studentid  > 1422\")"
   ]
  },
  {
   "cell_type": "code",
   "execution_count": 80,
   "id": "8ac1d6cc",
   "metadata": {},
   "outputs": [
    {
     "name": "stdout",
     "output_type": "stream",
     "text": [
      "[(1423, 'isha', 'ghoil', datetime.date(2022, 12, 2), 'SQL', 'FSDS'), (1423, 'isha', 'ghoil', datetime.date(2022, 12, 2), 'SQL', 'FSDS')]\n"
     ]
    }
   ],
   "source": [
    "m.querys(\"select * from test.cls where firstname = 'isha'\")"
   ]
  },
  {
   "cell_type": "code",
   "execution_count": 77,
   "id": "a1bf9222",
   "metadata": {},
   "outputs": [],
   "source": [
    "m.update(\"update test.cls set firstname = 'sid' where studentid = 1421\")"
   ]
  },
  {
   "cell_type": "code",
   "execution_count": 78,
   "id": "b1123cfa",
   "metadata": {},
   "outputs": [
    {
     "name": "stdout",
     "output_type": "stream",
     "text": [
      "[(1421, 'sid', 'patade', datetime.date(2022, 12, 2), 'SQL', 'FSDS'), (1421, 'sid', 'patade', datetime.date(2022, 12, 2), 'SQL', 'FSDS')]\n"
     ]
    }
   ],
   "source": [
    "m.querys(\"select * from test.cls where studentid = 1421\")"
   ]
  },
  {
   "cell_type": "code",
   "execution_count": 79,
   "id": "da38a7aa",
   "metadata": {},
   "outputs": [],
   "source": [
    "m.delete(\"delete from test.cls where studentid = 1420 \")"
   ]
  },
  {
   "cell_type": "code",
   "execution_count": 81,
   "id": "37004156",
   "metadata": {},
   "outputs": [
    {
     "name": "stdout",
     "output_type": "stream",
     "text": [
      "[(1418,)]\n"
     ]
    }
   ],
   "source": [
    "m.querys(\"select min(studentid) from test.cls\")"
   ]
  },
  {
   "cell_type": "code",
   "execution_count": 82,
   "id": "2a0c6c5d",
   "metadata": {},
   "outputs": [
    {
     "name": "stdout",
     "output_type": "stream",
     "text": [
      "[(1424,)]\n"
     ]
    }
   ],
   "source": [
    "m.querys(\"select max(studentid) from test.cls\")"
   ]
  },
  {
   "cell_type": "code",
   "execution_count": 83,
   "id": "94ab5178",
   "metadata": {},
   "outputs": [
    {
     "name": "stdout",
     "output_type": "stream",
     "text": [
      "[(12,)]\n"
     ]
    }
   ],
   "source": [
    "m.querys(\"select count(*)  from test.cls \")"
   ]
  },
  {
   "cell_type": "code",
   "execution_count": 84,
   "id": "3a7fa179",
   "metadata": {},
   "outputs": [
    {
     "name": "stdout",
     "output_type": "stream",
     "text": [
      "[(12, 'SQL')]\n"
     ]
    }
   ],
   "source": [
    "m.querys(\"select count(*),class  from test.cls group by class \")"
   ]
  },
  {
   "cell_type": "code",
   "execution_count": 86,
   "id": "a9b0d050",
   "metadata": {},
   "outputs": [
    {
     "name": "stdout",
     "output_type": "stream",
     "text": [
      "This is MongoDB class\n"
     ]
    }
   ],
   "source": [
    "print(m)"
   ]
  },
  {
   "cell_type": "code",
   "execution_count": null,
   "id": "147adc44",
   "metadata": {},
   "outputs": [],
   "source": []
  }
 ],
 "metadata": {
  "kernelspec": {
   "display_name": "Python 3 (ipykernel)",
   "language": "python",
   "name": "python3"
  },
  "language_info": {
   "codemirror_mode": {
    "name": "ipython",
    "version": 3
   },
   "file_extension": ".py",
   "mimetype": "text/x-python",
   "name": "python",
   "nbconvert_exporter": "python",
   "pygments_lexer": "ipython3",
   "version": "3.10.6"
  }
 },
 "nbformat": 4,
 "nbformat_minor": 5
}
